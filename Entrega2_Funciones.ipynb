{
  "nbformat": 4,
  "nbformat_minor": 0,
  "metadata": {
    "colab": {
      "name": "Entrega2-Funciones",
      "provenance": [],
      "authorship_tag": "ABX9TyOrmC2yaT5EEZf1hUZJ2p21",
      "include_colab_link": true
    },
    "kernelspec": {
      "name": "python3",
      "display_name": "Python 3"
    },
    "language_info": {
      "name": "python"
    }
  },
  "cells": [
    {
      "cell_type": "markdown",
      "metadata": {
        "id": "view-in-github",
        "colab_type": "text"
      },
      "source": [
        "<a href=\"https://colab.research.google.com/github/KAROJASR/Computacion-estadistica/blob/main/Entrega2_Funciones.ipynb\" target=\"_parent\"><img src=\"https://colab.research.google.com/assets/colab-badge.svg\" alt=\"Open In Colab\"/></a>"
      ]
    },
    {
      "cell_type": "markdown",
      "source": [
        "#Entrega 2- Karen Alexandra Rojas Rincon"
      ],
      "metadata": {
        "id": "lMXpBYt-m9RF"
      }
    },
    {
      "cell_type": "code",
      "source": [
        "import numpy as np\n",
        "import math\n",
        "from math import log\n",
        "import random\n",
        "import matplotlib.pyplot as plt"
      ],
      "metadata": {
        "id": "PoSbxBwCrPtE"
      },
      "execution_count": 1,
      "outputs": []
    },
    {
      "cell_type": "markdown",
      "source": [
        "Llevar a codigo funcional las siguientes funciones."
      ],
      "metadata": {
        "id": "XOsBbdYLnVFW"
      }
    },
    {
      "cell_type": "markdown",
      "source": [
        "$$Y_1{}= \\log (X)$$   Condición   $$X> 0$$"
      ],
      "metadata": {
        "id": "56DmQoc6nmma"
      }
    },
    {
      "cell_type": "code",
      "execution_count": 2,
      "metadata": {
        "colab": {
          "base_uri": "https://localhost:8080/"
        },
        "id": "KMC8shiMm8Fj",
        "outputId": "bbe13aa3-83e8-4e79-8e7c-1ca2691ef044"
      },
      "outputs": [
        {
          "output_type": "stream",
          "name": "stdout",
          "text": [
            "Introduzca el valor de x 5\n",
            "y1 es:0.6989700043360189\n"
          ]
        }
      ],
      "source": [
        "x=float(input(\"Introduzca el valor de x \"))\n",
        "if x>0:\n",
        "  y1=math.log10(x)\n",
        "  print(f'y1 es:{math.log10(x)}')\n",
        "else: \n",
        "  print(\"El valor no tiene dominio en la función\")\n",
        "\n",
        "  "
      ]
    },
    {
      "cell_type": "markdown",
      "source": [
        "$$Y_{2}=\\log (\\sqrt{x})$$ Condición $$x>0$$"
      ],
      "metadata": {
        "id": "Rl0DOJuEtrtm"
      }
    },
    {
      "cell_type": "code",
      "source": [
        "x=float(input(\"Inserte el valor de x \"))\n",
        "if x>0:\n",
        "  y2=math.log10(x**(1/2))\n",
        "  print(f'y2 es:{math.log10(x**(1/2))}')\n",
        "else: \n",
        "  print(\"El valor no tiene dominio en la función\")"
      ],
      "metadata": {
        "colab": {
          "base_uri": "https://localhost:8080/"
        },
        "id": "-AUsVDySsMYh",
        "outputId": "2ee90914-aaec-48c6-f7f8-d22402face16"
      },
      "execution_count": 3,
      "outputs": [
        {
          "output_type": "stream",
          "name": "stdout",
          "text": [
            "Inserte el valor de x 7\n",
            "y2 es:0.42254902000712846\n"
          ]
        }
      ]
    },
    {
      "cell_type": "markdown",
      "source": [
        "$$Y_{3}=\\log (\\sqrt{X^{2}-1})$$"
      ],
      "metadata": {
        "id": "zf6Nt93uyMRu"
      }
    },
    {
      "cell_type": "code",
      "source": [
        "x=float(input(\"Ingrese el valor de x \"))\n",
        "if x>0 or x<0:\n",
        "  y3=math.log10(((x**2)-1)**(1/2))\n",
        "  print(f'y3 es:{math.log10(((x**2)-1)**(1/2))}')\n",
        "else: \n",
        "  print(\"El valor no tiene dominio en la función\")"
      ],
      "metadata": {
        "colab": {
          "base_uri": "https://localhost:8080/"
        },
        "id": "Kv05jAWLynN_",
        "outputId": "0b62157d-f1bf-4528-993b-2f9c9d47e78b"
      },
      "execution_count": 4,
      "outputs": [
        {
          "output_type": "stream",
          "name": "stdout",
          "text": [
            "Ingrese el valor de x 8\n",
            "y3 es:0.8996702747267908\n"
          ]
        }
      ]
    },
    {
      "cell_type": "markdown",
      "source": [
        "$$Y_{4}=\\frac{\\log (\\sqrt{x-1})}{x^{2}+1}$$"
      ],
      "metadata": {
        "id": "TPeFdDymxum7"
      }
    },
    {
      "cell_type": "code",
      "source": [
        "x=float(input(\"Ingrese el valor de x \"))\n",
        "y4=math.log10((x-1)**(1/2))/(x**2+1)\n",
        "print(y4)"
      ],
      "metadata": {
        "colab": {
          "base_uri": "https://localhost:8080/"
        },
        "id": "8Tl7atRIy3AX",
        "outputId": "5feb7345-5183-4142-bd9f-fa70fb9adc54"
      },
      "execution_count": 5,
      "outputs": [
        {
          "output_type": "stream",
          "name": "stdout",
          "text": [
            "Ingrese el valor de x 9\n",
            "0.005506646262145997\n"
          ]
        }
      ]
    },
    {
      "cell_type": "markdown",
      "source": [
        "$$Y_{5}=\\frac{x-1}{\\log (x)}$$ Condición $$>0$$"
      ],
      "metadata": {
        "id": "XmmKBMAIzAhH"
      }
    },
    {
      "cell_type": "code",
      "source": [
        "x=float(input(\"Ingrese el valor de x \"))\n",
        "if x>0:\n",
        "  Y5=(x-1)/math.log10(x)\n",
        "  print(f'Y5 es:{(x-1)/math.log10(x)}')\n",
        "else: \n",
        "  print(\"El valor no se encuentra dentro del dominio de la función\")"
      ],
      "metadata": {
        "colab": {
          "base_uri": "https://localhost:8080/"
        },
        "id": "ohzjHmC3zROX",
        "outputId": "9acec54e-21fe-4750-ec9a-c8b373add6d7"
      },
      "execution_count": 6,
      "outputs": [
        {
          "output_type": "stream",
          "name": "stdout",
          "text": [
            "Ingrese el valor de x 0\n",
            "El valor no se encuentra dentro del dominio de la función\n"
          ]
        }
      ]
    },
    {
      "cell_type": "markdown",
      "source": [
        "$$Y_{6}=\\frac{1}{x}+\\sqrt{x-1}$$ Condición $$X>0$$"
      ],
      "metadata": {
        "id": "83XNFr9X1kYe"
      }
    },
    {
      "cell_type": "code",
      "source": [
        "x=float(input(\"Ingrese el valor de x \"))\n",
        "if x>0:\n",
        "  Y6=(1/x)+((x-1)**(1/2))\n",
        "  print(f'Y6 es:{(1/x)+((x-1)**(1/2))}')\n",
        "else: \n",
        "  print(\"El valor se sale del dominio de la funcnión\")"
      ],
      "metadata": {
        "colab": {
          "base_uri": "https://localhost:8080/"
        },
        "id": "FWQ-5DN10T2z",
        "outputId": "cff0c791-55f6-421e-a4bc-6d7d8db537f4"
      },
      "execution_count": 7,
      "outputs": [
        {
          "output_type": "stream",
          "name": "stdout",
          "text": [
            "Ingrese el valor de x 2\n",
            "Y6 es:1.5\n"
          ]
        }
      ]
    },
    {
      "cell_type": "markdown",
      "source": [
        "$$Y_{7}=\\frac{1}{x}+\\sqrt{x-1} -\\left ( \\frac{1}{\\log \\left ( \\frac{1}{x+1} \\right )} \\right )$$"
      ],
      "metadata": {
        "id": "4BiIoOLxztNC"
      }
    },
    {
      "cell_type": "code",
      "source": [
        "x=float(input(\"Introduzca el valor de x \"))\n",
        "if x>0:\n",
        "  Y7=(1/x)+(x-1)-(1/(math.log10(1/(x+1))))\n",
        "  print(f'Y7 es:{(1/x)+(x-1)-(1/(math.log10(1/(x+1))))}')\n",
        "else: \n",
        "  print(\"El valor no se encuentra dentro del dominio de la función\")"
      ],
      "metadata": {
        "colab": {
          "base_uri": "https://localhost:8080/"
        },
        "id": "-NUJDpY-1Ssw",
        "outputId": "ecf18621-e25f-4754-b6b9-5ec10bfda6d8"
      },
      "execution_count": 8,
      "outputs": [
        {
          "output_type": "stream",
          "name": "stdout",
          "text": [
            "Introduzca el valor de x 4\n",
            "Y7 es:4.680676558073393\n"
          ]
        }
      ]
    },
    {
      "cell_type": "markdown",
      "source": [
        "$$Y_{8}=\\frac{2}{x^{2}+1}$$"
      ],
      "metadata": {
        "id": "9eOd5RL21-in"
      }
    },
    {
      "cell_type": "code",
      "source": [
        "x=float(input(\"Ingrese el valor de x \"))\n",
        "Y8=(2)/(x**2+1)\n",
        "print(Y8)"
      ],
      "metadata": {
        "colab": {
          "base_uri": "https://localhost:8080/"
        },
        "id": "uwyBlkDe2W9E",
        "outputId": "b5a2276e-089e-4d9f-df54-9732b95a6cb2"
      },
      "execution_count": 9,
      "outputs": [
        {
          "output_type": "stream",
          "name": "stdout",
          "text": [
            "Ingrese el valor de x 3\n",
            "0.2\n"
          ]
        }
      ]
    },
    {
      "cell_type": "markdown",
      "source": [
        "$$Y_{9}=\\frac{1}{n}+\\sum x_{i}$$  Condición $$n>1$$"
      ],
      "metadata": {
        "id": "bopDsVBe2in7"
      }
    },
    {
      "cell_type": "code",
      "source": [
        "x= float(input(\"Ingrese el valor de x \"))\n",
        "n=int(input(\"Ingrese el valor de n \"))\n",
        "\n",
        "if n >= 1:\n",
        "  summatory = []\n",
        "  for i in range(n):\n",
        "    summatory.append(x)\n",
        "    Y9=(1/n)*(sum(summatory))\n",
        "    print( f'Y9 es: {Y9}')\n",
        "  else: \n",
        "    print(\"El valor no se encuentra del dominio de la función\")"
      ],
      "metadata": {
        "colab": {
          "base_uri": "https://localhost:8080/"
        },
        "id": "jGsvyYjD28cv",
        "outputId": "b1473c49-3301-452b-c227-eee0d766a8d3"
      },
      "execution_count": 10,
      "outputs": [
        {
          "output_type": "stream",
          "name": "stdout",
          "text": [
            "Ingrese el valor de x 2\n",
            "Ingrese el valor de n 4\n",
            "Y9 es: 0.5\n",
            "Y9 es: 1.0\n",
            "Y9 es: 1.5\n",
            "Y9 es: 2.0\n",
            "El valor no se encuentra del dominio de la función\n"
          ]
        }
      ]
    },
    {
      "cell_type": "markdown",
      "source": [
        "$$Y_{10}=\\frac{1}{n-1}\\sum_{i=1}^{n}(x_{i}-\\bar{x})^{2}$$ Condición: $$n>1$$"
      ],
      "metadata": {
        "id": "oFNTk7ze32mu"
      }
    },
    {
      "cell_type": "code",
      "source": [
        "x= float(input(\"Ingrese x \"))\n",
        "n=int(input(\"Ingrese n \"))\n",
        "if n >= 1:\n",
        "  summatory = []\n",
        "  for i in range(n):\n",
        "    summatory.append((x-(x/n))**2)\n",
        "    z=(1/(n-1))*(sum(summatory))\n",
        "    print( f'Y10 es:{z}')\n",
        "  else: \n",
        "    print(\"No se puede realizar la funcion con un n menor a 1\")"
      ],
      "metadata": {
        "id": "SEkNo835483U",
        "colab": {
          "base_uri": "https://localhost:8080/"
        },
        "outputId": "93bd1170-bb87-4554-e2b3-2aaf0694f0e8"
      },
      "execution_count": 14,
      "outputs": [
        {
          "output_type": "stream",
          "name": "stdout",
          "text": [
            "Ingrese x 4\n",
            "Ingrese n 5\n",
            "Y10 es:2.5600000000000005\n",
            "Y10 es:5.120000000000001\n",
            "Y10 es:7.6800000000000015\n",
            "Y10 es:10.240000000000002\n",
            "Y10 es:12.800000000000002\n",
            "No se puede realizar la funcion con un n menor a 1\n"
          ]
        }
      ]
    },
    {
      "cell_type": "markdown",
      "source": [
        "$$Y_{11}=\\frac{\\sqrt{Y_{10}}}{Y_{9}}$$"
      ],
      "metadata": {
        "id": "icyovMw-shGc"
      }
    },
    {
      "cell_type": "code",
      "source": [
        "\n",
        " \n",
        "x= float(input(\"Ingrese x : \"))\n",
        "n=int(input(\"Ingrese n : \"))\n",
        "\n",
        "if n >= 1:\n",
        "  summatory = []\n",
        "  for i in range(n):\n",
        "    summatory.append(x)\n",
        "    Y9 =(1/n)*(sum(summatory))\n",
        "    print( f'Y9 es:{Y9}')\n",
        "  else: \n",
        "    print(\"No se puede realizar la funcion con un n menor a 1\")\n",
        "\n",
        "x= float(input(\"Ingrese x \"))\n",
        "n=int(input(\"Ingrese n \"))\n",
        "if n >= 1:\n",
        "  summatory = []\n",
        "  for i in range(n):\n",
        "    summatory.append((x-(x/n))**2)\n",
        "    Y10=(1/(n-1))*(sum(summatory))\n",
        "    print( f'Y10 es:{Y10}')\n",
        "  else: \n",
        "    print(\"No se puede realizar la funcion con un n menor a 1\")\n",
        "\n",
        "z=(Y10**1/2)/(Y9)\n",
        "\n",
        "print(f'Y11 es:{z}')"
      ],
      "metadata": {
        "colab": {
          "base_uri": "https://localhost:8080/"
        },
        "id": "pL98oPhMuCKc",
        "outputId": "adb174cf-6887-4e8d-85fc-aa5648c4e2c4"
      },
      "execution_count": 15,
      "outputs": [
        {
          "output_type": "stream",
          "name": "stdout",
          "text": [
            "Ingrese x : 6\n",
            "Ingrese n : 5\n",
            "Y9 es:1.2000000000000002\n",
            "Y9 es:2.4000000000000004\n",
            "Y9 es:3.6\n",
            "Y9 es:4.800000000000001\n",
            "Y9 es:6.0\n",
            "No se puede realizar la funcion con un n menor a 1\n",
            "Ingrese x 3\n",
            "Ingrese n 8\n",
            "Y10 es:0.984375\n",
            "Y10 es:1.96875\n",
            "Y10 es:2.953125\n",
            "Y10 es:3.9375\n",
            "Y10 es:4.921875\n",
            "Y10 es:5.90625\n",
            "Y10 es:6.890625\n",
            "Y10 es:7.875\n",
            "No se puede realizar la funcion con un n menor a 1\n",
            "Y11 es:0.65625\n"
          ]
        }
      ]
    },
    {
      "cell_type": "markdown",
      "source": [
        "Construya una funcion que returne la varianza de un conjunto de datos (n ≥ 2) cuando se va incorporando dato a dato. Use como primer par de datos los que se generan de la distribuci ́on normal con μ = 3 y s = 0,3.Use la misma semilla y los mismos parametros de la distribucion para incorporar cada dato. Haga el proceso 50 veces y luego grafique la varianza como funcion de n."
      ],
      "metadata": {
        "id": "HwRWAflZuepe"
      }
    },
    {
      "cell_type": "code",
      "source": [
        "def variance(n):\n",
        "  random.seed(123)\n",
        "  if n < 2: \n",
        "    return f'El conjunto de datos debe tener 2 o más datos'\n",
        "  else:\n",
        "      var=np.random.normal(3,0.3,2)\n",
        "      list_var=[var[0],var[1]]\n",
        "      list_g=np.random.normal(3,0.3,n)\n",
        "      for i in range (n):\n",
        "        list_var.append(list_g[i])\n",
        "        print(f'La varianza es {round(np.var(list_var),5)},cuando n es {i+1}')\n",
        "\n",
        "variance(50)"
      ],
      "metadata": {
        "colab": {
          "base_uri": "https://localhost:8080/"
        },
        "id": "TyMGI2zPunPa",
        "outputId": "ec3de8d5-3776-40fa-a4a5-9dc4aef2cbad"
      },
      "execution_count": 16,
      "outputs": [
        {
          "output_type": "stream",
          "name": "stdout",
          "text": [
            "La varianza es 0.06095,cuando n es 1\n",
            "La varianza es 0.04577,cuando n es 2\n",
            "La varianza es 0.04195,cuando n es 3\n",
            "La varianza es 0.05146,cuando n es 4\n",
            "La varianza es 0.04412,cuando n es 5\n",
            "La varianza es 0.04223,cuando n es 6\n",
            "La varianza es 0.048,cuando n es 7\n",
            "La varianza es 0.06294,cuando n es 8\n",
            "La varianza es 0.05726,cuando n es 9\n",
            "La varianza es 0.0581,cuando n es 10\n",
            "La varianza es 0.05364,cuando n es 11\n",
            "La varianza es 0.04993,cuando n es 12\n",
            "La varianza es 0.04938,cuando n es 13\n",
            "La varianza es 0.07909,cuando n es 14\n",
            "La varianza es 0.07763,cuando n es 15\n",
            "La varianza es 0.07492,cuando n es 16\n",
            "La varianza es 0.07998,cuando n es 17\n",
            "La varianza es 0.07683,cuando n es 18\n",
            "La varianza es 0.07333,cuando n es 19\n",
            "La varianza es 0.07021,cuando n es 20\n",
            "La varianza es 0.0753,cuando n es 21\n",
            "La varianza es 0.07666,cuando n es 22\n",
            "La varianza es 0.07419,cuando n es 23\n",
            "La varianza es 0.0763,cuando n es 24\n",
            "La varianza es 0.07585,cuando n es 25\n",
            "La varianza es 0.0774,cuando n es 26\n",
            "La varianza es 0.07492,cuando n es 27\n",
            "La varianza es 0.07619,cuando n es 28\n",
            "La varianza es 0.07991,cuando n es 29\n",
            "La varianza es 0.07814,cuando n es 30\n",
            "La varianza es 0.07646,cuando n es 31\n",
            "La varianza es 0.07425,cuando n es 32\n",
            "La varianza es 0.07425,cuando n es 33\n",
            "La varianza es 0.07253,cuando n es 34\n",
            "La varianza es 0.07331,cuando n es 35\n",
            "La varianza es 0.07188,cuando n es 36\n",
            "La varianza es 0.07141,cuando n es 37\n",
            "La varianza es 0.06965,cuando n es 38\n",
            "La varianza es 0.0686,cuando n es 39\n",
            "La varianza es 0.06824,cuando n es 40\n",
            "La varianza es 0.06976,cuando n es 41\n",
            "La varianza es 0.07312,cuando n es 42\n",
            "La varianza es 0.07322,cuando n es 43\n",
            "La varianza es 0.07163,cuando n es 44\n",
            "La varianza es 0.07071,cuando n es 45\n",
            "La varianza es 0.06925,cuando n es 46\n",
            "La varianza es 0.06835,cuando n es 47\n",
            "La varianza es 0.06727,cuando n es 48\n",
            "La varianza es 0.07292,cuando n es 49\n",
            "La varianza es 0.07238,cuando n es 50\n"
          ]
        }
      ]
    },
    {
      "cell_type": "markdown",
      "source": [
        "La cantidad de radiacion absorbida puede medirse por la transmitancia. La relacion entre transmitancia (T) y absorbancia (A) esta dada por la ley Beer-Lambert (ley de Beer). Cree una funcion para la expresion que aparece en https://www.electrical4u.com/what−is−transmittance/ y genere unos datos de T para determinar A. Grafique la funcion. Finalmente lea la seccion titulada: ✭✭Why is Absorbance the Preferred Unit Over Transmittance?✮✮ (buscar el link desde el buscador)"
      ],
      "metadata": {
        "id": "hinT338QvEk9"
      }
    },
    {
      "cell_type": "markdown",
      "source": [
        "FUNCION PARA LA LEY DE BEER-LAMBERT (LEY DE BEER)"
      ],
      "metadata": {
        "id": "8F2TBX3tvZcH"
      }
    },
    {
      "cell_type": "code",
      "source": [
        "from math import log10\n",
        "\n",
        "porcentaje_de_T = float(input('Ingrese porcentaje_de_T: '))\n",
        "\n",
        "z = 2 - (log10(porcentaje_de_T))\n",
        "\n",
        "print(f'A es: {z}')"
      ],
      "metadata": {
        "colab": {
          "base_uri": "https://localhost:8080/"
        },
        "id": "-s0zurh_vJvf",
        "outputId": "3fc2e2cf-0d5d-444f-a4f8-c7ffc1123ca3"
      },
      "execution_count": 17,
      "outputs": [
        {
          "output_type": "stream",
          "name": "stdout",
          "text": [
            "Ingrese porcentaje_de_T: 24\n",
            "A es: 0.6197887582883941\n"
          ]
        }
      ]
    },
    {
      "cell_type": "markdown",
      "source": [
        "GRAFICA DE TRANSMITANCIA Y ABSORBANCIA\n",
        "\n",
        "Porcentajes de transmitancias teoricas de 1%,25%,50%,75%,100% "
      ],
      "metadata": {
        "id": "2Q4LChj-0m6w"
      }
    },
    {
      "cell_type": "code",
      "source": [
        "import matplotlib.pyplot as plt\n",
        "x=[1,25,50,75,100]\n",
        "y=[ 2,0.6020599913279623,0.30102999566398125,0.1249387366082999,0]\n",
        "plt.plot(x,y)\n",
        "plt.xlabel('% de transmitancia')\n",
        "plt.ylabel('Absorbancia')\n",
        "plt.show()"
      ],
      "metadata": {
        "colab": {
          "base_uri": "https://localhost:8080/",
          "height": 279
        },
        "id": "y_eDsJ3Tvc0V",
        "outputId": "c20cb264-6f4f-46f2-f7cc-b93a1ce8cf57"
      },
      "execution_count": 18,
      "outputs": [
        {
          "output_type": "display_data",
          "data": {
            "text/plain": [
              "<Figure size 432x288 with 1 Axes>"
            ],
            "image/png": "[encoded data removed]"
          },
          "metadata": {
            "needs_background": "light"
          }
        }
      ]
    }
  ]
}